{
 "cells": [
  {
   "cell_type": "markdown",
   "metadata": {},
   "source": [
    "#### PREREQUISITES:\n",
    "- Install Speech Recognition Package \n",
    "- Install PyAudio Package"
   ]
  },
  {
   "cell_type": "code",
   "execution_count": 2,
   "metadata": {},
   "outputs": [],
   "source": [
    "#IMPORT SPEECH RECOGNTION PACKAGE\n",
    "import speech_recognition as sr"
   ]
  },
  {
   "cell_type": "code",
   "execution_count": 9,
   "metadata": {},
   "outputs": [],
   "source": [
    "#Instantiating THE Recognizer class object \n",
    "r = sr.Recognizer()\n",
    "r.energy_threshold = 4000\n",
    "sr.__version__"
   ]
  },
  {
   "cell_type": "code",
   "execution_count": 8,
   "metadata": {},
   "outputs": [],
   "source": [
    "# Accessing the Microphone class as the source of input audio\n",
    "with sr.Microphone() as source:\n",
    "    # Print to ask user for input\n",
    "    print('SAY SOMETHING...')    \n",
    "    # Listen for the first phrase and extract it into audio data\n",
    "    # Resulting audio will be the phrase cut off at the time limit(ADAPTABLE as per need)\n",
    "    audio = r.listen(source, phrase_time_limit=5)\n",
    "    \n",
    "    \n",
    "# try-except block to test the block of code for error\n",
    "try:    \n",
    "    # Accessing the Google Web Speech API to capture the audio\n",
    "    text = r.recognize_google(audio)   \n",
    "    # Print to confirm user input\n",
    "    print('DID YOU MEAN THIS?: {}'.format(text))\n",
    "\n",
    "    \n",
    "# Speech is incomprehensible\n",
    "except sr.UnknownValueError:\n",
    "    print('OOPS! INVALID INPUT. PLEASE TRY AGAIN...')"
   ]
  }
 ],
 "metadata": {
  "kernelspec": {
   "display_name": "Python 3",
   "language": "python",
   "name": "python3"
  },
  "language_info": {
   "codemirror_mode": {
    "name": "ipython",
    "version": 3
   },
   "file_extension": ".py",
   "mimetype": "text/x-python",
   "name": "python",
   "nbconvert_exporter": "python",
   "pygments_lexer": "ipython3",
   "version": "3.7.6"
  }
 },
 "nbformat": 4,
 "nbformat_minor": 4
}
